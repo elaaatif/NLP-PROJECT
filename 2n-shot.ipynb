{
 "cells": [
  {
   "cell_type": "code",
   "execution_count": 94,
   "metadata": {},
   "outputs": [],
   "source": [
    "import pandas as pd\n",
    "import numpy as np\n",
    "import tensorflow as tf\n",
    "from transformers import TFAutoModel, AutoTokenizer"
   ]
  },
  {
   "cell_type": "code",
   "execution_count": 95,
   "metadata": {},
   "outputs": [],
   "source": [
    "# Load data from Excel files\n",
    "train_df = pd.read_excel(\"train.xlsx\")\n",
    "test_df = pd.read_excel(\"test.xlsx\")\n",
    "# Rename columns for clarity\n",
    "\n",
    "train_df.columns = ['id', 'user', 'tweet']\n",
    "test_df.columns = ['id', 'user', 'tweet']"
   ]
  },
  {
   "cell_type": "code",
   "execution_count": 96,
   "metadata": {},
   "outputs": [],
   "source": [
    "def reshape_data(df):\n",
    "    # Sample a subset of data to reduce memory usage\n",
    "    sample_size = min(500, len(df))  # initially 10000 / karnel crashed\n",
    "    if sample_size < len(df):\n",
    "        df_sample = df.sample(n=sample_size, replace=True, random_state=42)\n",
    "    else:\n",
    "        df_sample = df.copy()\n",
    "\n",
    "    df1 = df_sample.copy()\n",
    "    df2 = df_sample.copy()\n",
    "\n",
    "    # Merge dataframes to create pairs\n",
    "    merged_df = pd.merge(df1, df2, how='cross', suffixes=('_1', '_2'))\n",
    "\n",
    "    # Filter out pairs where user1 equals user2 (same tweet)\n",
    "    merged_df = merged_df[merged_df['user_1'] != merged_df['user_2']]\n",
    "\n",
    "    # Create is_same column\n",
    "    merged_df['is_same'] = merged_df['tweet_1'] == merged_df['tweet_2']\n",
    "\n",
    "    return merged_df[['id_1', 'user_1', 'tweet_1', 'user_2', 'tweet_2', 'is_same']]"
   ]
  },
  {
   "cell_type": "code",
   "execution_count": 97,
   "metadata": {},
   "outputs": [
    {
     "name": "stderr",
     "output_type": "stream",
     "text": [
      "Some weights of the PyTorch model were not used when initializing the TF 2.0 model TFBertModel: ['cls.predictions.transform.dense.bias', 'cls.predictions.transform.LayerNorm.weight', 'cls.seq_relationship.weight', 'cls.predictions.transform.LayerNorm.bias', 'cls.predictions.transform.dense.weight', 'cls.predictions.bias', 'cls.seq_relationship.bias']\n",
      "- This IS expected if you are initializing TFBertModel from a PyTorch model trained on another task or with another architecture (e.g. initializing a TFBertForSequenceClassification model from a BertForPreTraining model).\n",
      "- This IS NOT expected if you are initializing TFBertModel from a PyTorch model that you expect to be exactly identical (e.g. initializing a TFBertForSequenceClassification model from a BertForSequenceClassification model).\n",
      "All the weights of TFBertModel were initialized from the PyTorch model.\n",
      "If your task is similar to the task the model of the checkpoint was trained on, you can already use TFBertModel for predictions without further training.\n"
     ]
    }
   ],
   "source": [
    "# Reshape train and test data\n",
    "train_data = reshape_data(train_df)\n",
    "test_data = reshape_data(test_df)\n",
    "\n",
    "# Load pre-trained transformer model and tokenizer\n",
    "model_name = \"bert-base-uncased\"\n",
    "tokenizer = AutoTokenizer.from_pretrained(model_name)\n",
    "transformer_model = TFAutoModel.from_pretrained(model_name)\n",
    "\n",
    "# Define model architecture\n",
    "input_ids1 = tf.keras.layers.Input(shape=(None,), dtype=tf.int32)\n",
    "input_ids2 = tf.keras.layers.Input(shape=(None,), dtype=tf.int32)"
   ]
  },
  {
   "cell_type": "code",
   "execution_count": 98,
   "metadata": {},
   "outputs": [],
   "source": [
    "# Encode tweet pairs using the transformer model\n",
    "embedding1 = transformer_model(input_ids1)[0][:, 0, :]\n",
    "embedding2 = transformer_model(input_ids2)[0][:, 0, :]"
   ]
  },
  {
   "cell_type": "code",
   "execution_count": 99,
   "metadata": {},
   "outputs": [],
   "source": [
    "# Calculate Manhattan distance between tweet embeddings\n",
    "distance = tf.keras.layers.Lambda(lambda x: tf.abs(x[0] - x[1]))([embedding1, embedding2])"
   ]
  },
  {
   "cell_type": "code",
   "execution_count": 100,
   "metadata": {},
   "outputs": [],
   "source": [
    "# Tokenize tweet pairs\n",
    "def tokenize_tweets(tweet_pairs):\n",
    "    return tokenizer(tweet_pairs.values.tolist(), padding=True, truncation=True, return_tensors=\"tf\")\n",
    "\n",
    "train_tokenized_pairs = tokenize_tweets(train_data[['tweet_1', 'tweet_2']])\n",
    "test_tokenized_pairs = tokenize_tweets(test_data[['tweet_1', 'tweet_2']])"
   ]
  },
  {
   "cell_type": "code",
   "execution_count": 101,
   "metadata": {},
   "outputs": [],
   "source": [
    "# Define the model with inputs and outputs\n",
    "dense_layer = tf.keras.layers.Dense(1, activation='sigmoid')(distance)\n",
    "model = tf.keras.Model(inputs=[input_ids1, input_ids2], outputs=dense_layer)\n"
   ]
  },
  {
   "cell_type": "code",
   "execution_count": 102,
   "metadata": {},
   "outputs": [],
   "source": [
    "# Compile the model\n",
    "optimizer = tf.keras.optimizers.Adam(learning_rate=1e-5)\n",
    "model.compile(optimizer=optimizer, loss='binary_crossentropy', metrics=['accuracy'])"
   ]
  },
  {
   "cell_type": "code",
   "execution_count": 103,
   "metadata": {},
   "outputs": [
    {
     "name": "stdout",
     "output_type": "stream",
     "text": [
      "Epoch 1/5\n",
      "WARNING:tensorflow:From C:\\Users\\Latif\\AppData\\Local\\Packages\\PythonSoftwareFoundation.Python.3.11_qbz5n2kfra8p0\\LocalCache\\local-packages\\Python311\\site-packages\\keras\\src\\utils\\tf_utils.py:492: The name tf.ragged.RaggedTensorValue is deprecated. Please use tf.compat.v1.ragged.RaggedTensorValue instead.\n",
      "\n",
      "WARNING:tensorflow:Gradients do not exist for variables ['tf_bert_model_10/bert/pooler/dense/kernel:0', 'tf_bert_model_10/bert/pooler/dense/bias:0'] when minimizing the loss. If you're using `model.compile()`, did you forget to provide a `loss` argument?\n",
      "WARNING:tensorflow:Gradients do not exist for variables ['tf_bert_model_10/bert/pooler/dense/kernel:0', 'tf_bert_model_10/bert/pooler/dense/bias:0'] when minimizing the loss. If you're using `model.compile()`, did you forget to provide a `loss` argument?\n",
      "WARNING:tensorflow:From C:\\Users\\Latif\\AppData\\Local\\Packages\\PythonSoftwareFoundation.Python.3.11_qbz5n2kfra8p0\\LocalCache\\local-packages\\Python311\\site-packages\\keras\\src\\engine\\base_layer_utils.py:384: The name tf.executing_eagerly_outside_functions is deprecated. Please use tf.compat.v1.executing_eagerly_outside_functions instead.\n",
      "\n",
      "WARNING:tensorflow:Gradients do not exist for variables ['tf_bert_model_10/bert/pooler/dense/kernel:0', 'tf_bert_model_10/bert/pooler/dense/bias:0'] when minimizing the loss. If you're using `model.compile()`, did you forget to provide a `loss` argument?\n",
      "WARNING:tensorflow:Gradients do not exist for variables ['tf_bert_model_10/bert/pooler/dense/kernel:0', 'tf_bert_model_10/bert/pooler/dense/bias:0'] when minimizing the loss. If you're using `model.compile()`, did you forget to provide a `loss` argument?\n",
      "  20/7204 [..............................] - ETA: 110:20:34 - loss: 0.5394 - accuracy: 0.7922"
     ]
    }
   ],
   "source": [
    "\n",
    "# Train model\n",
    "model.fit([train_tokenized_pairs['input_ids'], train_tokenized_pairs['input_ids']], \n",
    "          train_data['is_same'], epochs=5, batch_size=32)\n"
   ]
  },
  {
   "cell_type": "code",
   "execution_count": null,
   "metadata": {},
   "outputs": [],
   "source": [
    "model.save('K:\\STUDIES\\----- M1 AI\\S2\\NLP\\NLP-LAB\\PROJ 01')\n"
   ]
  },
  {
   "cell_type": "code",
   "execution_count": null,
   "metadata": {},
   "outputs": [],
   "source": [
    "# Evaluate model\n",
    "test_loss, test_accuracy = model.evaluate([test_tokenized_pairs['input_ids'][:, 0, :], test_tokenized_pairs['input_ids'][:, 1, :]],\n",
    "                                          test_data['is_same'])\n",
    "print(f\"Test Loss: {test_loss}, Test Accuracy: {test_accuracy}\")"
   ]
  }
 ],
 "metadata": {
  "kernelspec": {
   "display_name": "Python 3",
   "language": "python",
   "name": "python3"
  },
  "language_info": {
   "codemirror_mode": {
    "name": "ipython",
    "version": 3
   },
   "file_extension": ".py",
   "mimetype": "text/x-python",
   "name": "python",
   "nbconvert_exporter": "python",
   "pygments_lexer": "ipython3",
   "version": "3.11.8"
  }
 },
 "nbformat": 4,
 "nbformat_minor": 2
}
